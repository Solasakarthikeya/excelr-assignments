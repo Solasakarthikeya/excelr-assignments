{
  "nbformat": 4,
  "nbformat_minor": 0,
  "metadata": {
    "colab": {
      "provenance": []
    },
    "kernelspec": {
      "name": "python3",
      "display_name": "Python 3"
    },
    "language_info": {
      "name": "python"
    }
  },
  "cells": [
    {
      "cell_type": "code",
      "source": [
        "import pandas as pd\n",
        "from sklearn.feature_extraction.text import TfidfVectorizer\n",
        "from sklearn.metrics.pairwise import cosine_similarity\n",
        "from sklearn.feature_extraction.text import TfidfVectorizer\n",
        "from sklearn.preprocessing import StandardScaler\n",
        "from sklearn.model_selection import train_test_split\n",
        "from sklearn.metrics.pairwise import cosine_similarity\n",
        "import numpy as np\n",
        "df = pd.read_csv('/content/anime.csv')\n",
        "df.fillna('', inplace=True)\n",
        "print(df.head())\n"
      ],
      "metadata": {
        "colab": {
          "base_uri": "https://localhost:8080/"
        },
        "id": "THiaozRY1gup",
        "outputId": "b0d371fc-b4bd-48b6-d9b0-c18f015fa8bb"
      },
      "execution_count": 44,
      "outputs": [
        {
          "output_type": "stream",
          "name": "stdout",
          "text": [
            "   anime_id                              name  \\\n",
            "0     32281                    Kimi no Na wa.   \n",
            "1      5114  Fullmetal Alchemist: Brotherhood   \n",
            "2     28977                          Gintama°   \n",
            "3      9253                       Steins;Gate   \n",
            "4      9969                     Gintama&#039;   \n",
            "\n",
            "                                               genre   type episodes rating  \\\n",
            "0               Drama, Romance, School, Supernatural  Movie        1   9.37   \n",
            "1  Action, Adventure, Drama, Fantasy, Magic, Mili...     TV       64   9.26   \n",
            "2  Action, Comedy, Historical, Parody, Samurai, S...     TV       51   9.25   \n",
            "3                                   Sci-Fi, Thriller     TV       24   9.17   \n",
            "4  Action, Comedy, Historical, Parody, Samurai, S...     TV       51   9.16   \n",
            "\n",
            "   members  \n",
            "0   200630  \n",
            "1   793665  \n",
            "2   114262  \n",
            "3   673572  \n",
            "4   151266  \n"
          ]
        },
        {
          "output_type": "stream",
          "name": "stderr",
          "text": [
            "<ipython-input-44-9f6a837e57d4>:10: FutureWarning: Setting an item of incompatible dtype is deprecated and will raise in a future error of pandas. Value '' has dtype incompatible with float64, please explicitly cast to a compatible dtype first.\n",
            "  df.fillna('', inplace=True)\n"
          ]
        }
      ]
    },
    {
      "source": [
        "df['genre'].fillna('Unknown', inplace=True)\n",
        "df['type'].fillna('Unknown', inplace=True)\n",
        "\n",
        "df['rating'] = pd.to_numeric(df['rating'], errors='coerce')\n",
        "df['rating'].fillna(df['rating'].mean(), inplace=True)\n",
        "\n",
        "df['episodes'] = pd.to_numeric(df['episodes'], errors='coerce')\n",
        "df['episodes'].fillna(0, inplace=True)\n",
        "\n",
        "df.info(), df.head()"
      ],
      "cell_type": "code",
      "metadata": {
        "colab": {
          "base_uri": "https://localhost:8080/"
        },
        "id": "L6LdRwWx5Zsy",
        "outputId": "290b26e1-9f4e-46da-e996-f1e595bb96f6"
      },
      "execution_count": 45,
      "outputs": [
        {
          "output_type": "stream",
          "name": "stdout",
          "text": [
            "<class 'pandas.core.frame.DataFrame'>\n",
            "RangeIndex: 12294 entries, 0 to 12293\n",
            "Data columns (total 7 columns):\n",
            " #   Column    Non-Null Count  Dtype  \n",
            "---  ------    --------------  -----  \n",
            " 0   anime_id  12294 non-null  int64  \n",
            " 1   name      12294 non-null  object \n",
            " 2   genre     12294 non-null  object \n",
            " 3   type      12294 non-null  object \n",
            " 4   episodes  12294 non-null  float64\n",
            " 5   rating    12294 non-null  float64\n",
            " 6   members   12294 non-null  int64  \n",
            "dtypes: float64(2), int64(2), object(3)\n",
            "memory usage: 672.5+ KB\n"
          ]
        },
        {
          "output_type": "execute_result",
          "data": {
            "text/plain": [
              "(None,\n",
              "    anime_id                              name  \\\n",
              " 0     32281                    Kimi no Na wa.   \n",
              " 1      5114  Fullmetal Alchemist: Brotherhood   \n",
              " 2     28977                          Gintama°   \n",
              " 3      9253                       Steins;Gate   \n",
              " 4      9969                     Gintama&#039;   \n",
              " \n",
              "                                                genre   type  episodes  rating  \\\n",
              " 0               Drama, Romance, School, Supernatural  Movie       1.0    9.37   \n",
              " 1  Action, Adventure, Drama, Fantasy, Magic, Mili...     TV      64.0    9.26   \n",
              " 2  Action, Comedy, Historical, Parody, Samurai, S...     TV      51.0    9.25   \n",
              " 3                                   Sci-Fi, Thriller     TV      24.0    9.17   \n",
              " 4  Action, Comedy, Historical, Parody, Samurai, S...     TV      51.0    9.16   \n",
              " \n",
              "    members  \n",
              " 0   200630  \n",
              " 1   793665  \n",
              " 2   114262  \n",
              " 3   673572  \n",
              " 4   151266  )"
            ]
          },
          "metadata": {},
          "execution_count": 45
        }
      ]
    },
    {
      "cell_type": "code",
      "source": [
        "\n",
        "tfidf_genre = TfidfVectorizer(stop_words='english')\n",
        "tfidf_type = TfidfVectorizer(stop_words='english')\n",
        "\n",
        "genre_matrix = tfidf_genre.fit_transform(df['genre'])\n",
        "type_matrix = tfidf_type.fit_transform(df['type'])\n",
        "\n",
        "genre_df = pd.DataFrame(genre_matrix.toarray(), index=df.index, columns=tfidf_genre.get_feature_names_out())\n",
        "type_df = pd.DataFrame(type_matrix.toarray(), index=df.index, columns=tfidf_type.get_feature_names_out())\n",
        "\n",
        "numerical_features = df[['episodes', 'rating', 'members']]\n",
        "combined_features = pd.concat([numerical_features, genre_df, type_df], axis=1)\n",
        "\n",
        "scaler = StandardScaler()\n",
        "normalized_features = scaler.fit_transform(combined_features)\n",
        "\n",
        "combined_features.shape, normalized_features.shape\n"
      ],
      "metadata": {
        "colab": {
          "base_uri": "https://localhost:8080/"
        },
        "id": "grHRIdfP5JBO",
        "outputId": "db05ad71-5cd5-48f4-95fb-68e069d5a967"
      },
      "execution_count": 46,
      "outputs": [
        {
          "output_type": "execute_result",
          "data": {
            "text/plain": [
              "((12294, 55), (12294, 55))"
            ]
          },
          "metadata": {},
          "execution_count": 46
        }
      ]
    },
    {
      "cell_type": "code",
      "source": [
        "train_df, test_df, train_features, test_features = train_test_split(\n",
        "    df, normalized_features, test_size=0.2, random_state=42\n",
        ")\n",
        "cosine_sim = cosine_similarity(train_features)\n",
        "def get_recommendations(anime_id, train_df, cosine_sim, top_n=10):\n",
        "    if anime_id not in train_df['anime_id'].values:\n",
        "        return f\"No recommendations available for anime_id: {anime_id}\"\n",
        "    idx = train_df.index[train_df['anime_id'] == anime_id].tolist()[0]\n",
        "    sim_scores = list(enumerate(cosine_sim[idx]))\n",
        "    sim_scores = sorted(sim_scores, key=lambda x: x[1], reverse=True)\n",
        "    sim_indices = [i[0] for i in sim_scores[1:top_n+1]]\n",
        "    return train_df.iloc[sim_indices][['anime_id', 'name', 'genre', 'rating']]"
      ],
      "metadata": {
        "id": "3lyHkcLP5vof"
      },
      "execution_count": 47,
      "outputs": []
    },
    {
      "cell_type": "code",
      "source": [],
      "metadata": {
        "id": "FDYOSVMH6seM"
      },
      "execution_count": 47,
      "outputs": []
    }
  ]
}