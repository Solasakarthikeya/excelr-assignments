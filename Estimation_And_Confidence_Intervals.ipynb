{
  "nbformat": 4,
  "nbformat_minor": 0,
  "metadata": {
    "colab": {
      "provenance": []
    },
    "kernelspec": {
      "name": "python3",
      "display_name": "Python 3"
    },
    "language_info": {
      "name": "python"
    }
  },
  "cells": [
    {
      "cell_type": "code",
      "source": [
        "import numpy as np\n",
        "import scipy.stats as stats"
      ],
      "metadata": {
        "id": "kL6Bvk84fK51"
      },
      "execution_count": 2,
      "outputs": []
    },
    {
      "cell_type": "code",
      "source": [
        "data = np.array([1.13, 1.55, 1.43, 0.92, 1.25, 1.36, 1.32, 0.85, 1.07, 1.48, 1.20, 1.33, 1.18, 1.22, 1.29])\n"
      ],
      "metadata": {
        "id": "RKUq2RZdfMGZ"
      },
      "execution_count": 3,
      "outputs": []
    },
    {
      "cell_type": "code",
      "source": [
        "n = len(data)\n",
        "\n",
        "sample_mean = np.mean(data)\n"
      ],
      "metadata": {
        "id": "CLSPH05CfONS"
      },
      "execution_count": 4,
      "outputs": []
    },
    {
      "cell_type": "code",
      "source": [
        "sample_std = np.std(data, ddof=1)\n"
      ],
      "metadata": {
        "id": "LJn8EeEffSOK"
      },
      "execution_count": 5,
      "outputs": []
    },
    {
      "cell_type": "code",
      "source": [
        "t_value = stats.t.ppf(0.995, df=n-1)\n"
      ],
      "metadata": {
        "id": "d0X4-YCefUzx"
      },
      "execution_count": 6,
      "outputs": []
    },
    {
      "cell_type": "code",
      "source": [
        "margin_of_error_a = t_value * (sample_std / np.sqrt(n))\n"
      ],
      "metadata": {
        "id": "eWWD6AO3fXDy"
      },
      "execution_count": 7,
      "outputs": []
    },
    {
      "cell_type": "code",
      "source": [
        "ci_a = (sample_mean - margin_of_error_a, sample_mean + margin_of_error_a)\n"
      ],
      "metadata": {
        "id": "POGQ-XcTfaID"
      },
      "execution_count": 8,
      "outputs": []
    },
    {
      "cell_type": "code",
      "source": [
        "print(f\"99% Confidence Interval using sample standard deviation: {ci_a}\")\n"
      ],
      "metadata": {
        "colab": {
          "base_uri": "https://localhost:8080/"
        },
        "id": "j5HU0aMTfcbz",
        "outputId": "fc3c0e18-e816-4304-e404-7b5f958b288f"
      },
      "execution_count": 9,
      "outputs": [
        {
          "output_type": "stream",
          "name": "stdout",
          "text": [
            "99% Confidence Interval using sample standard deviation: (1.0901973384384906, 1.3871359948948425)\n"
          ]
        }
      ]
    },
    {
      "cell_type": "code",
      "source": [
        "\n",
        "population_std = 0.2\n"
      ],
      "metadata": {
        "id": "rVO5Ku_mfgDK"
      },
      "execution_count": 10,
      "outputs": []
    },
    {
      "cell_type": "code",
      "source": [
        "z_value = stats.norm.ppf(0.995)\n"
      ],
      "metadata": {
        "id": "z1pGhTzWfkb-"
      },
      "execution_count": 11,
      "outputs": []
    },
    {
      "cell_type": "code",
      "source": [
        "margin_of_error_b = z_value * (population_std / np.sqrt(n))\n"
      ],
      "metadata": {
        "id": "mfki_3Mofnpt"
      },
      "execution_count": 12,
      "outputs": []
    },
    {
      "cell_type": "code",
      "source": [
        "ci_b = (sample_mean - margin_of_error_b, sample_mean + margin_of_error_b)\n"
      ],
      "metadata": {
        "id": "g2By-BFQfqtZ"
      },
      "execution_count": 13,
      "outputs": []
    },
    {
      "cell_type": "code",
      "source": [
        "print(f\"99% Confidence Interval using known population standard deviation: {ci_b}\")\n"
      ],
      "metadata": {
        "colab": {
          "base_uri": "https://localhost:8080/"
        },
        "id": "ynkOGSwGftQy",
        "outputId": "21c0d4db-7af2-4384-e410-ae0fca8ab84c"
      },
      "execution_count": 14,
      "outputs": [
        {
          "output_type": "stream",
          "name": "stdout",
          "text": [
            "99% Confidence Interval using known population standard deviation: (1.1056514133957607, 1.3716819199375725)\n"
          ]
        }
      ]
    },
    {
      "cell_type": "code",
      "source": [],
      "metadata": {
        "id": "emjaCHAYfwtj"
      },
      "execution_count": null,
      "outputs": []
    }
  ]
}