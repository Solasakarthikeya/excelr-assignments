{
  "nbformat": 4,
  "nbformat_minor": 0,
  "metadata": {
    "colab": {
      "provenance": []
    },
    "kernelspec": {
      "name": "python3",
      "display_name": "Python 3"
    },
    "language_info": {
      "name": "python"
    }
  },
  "cells": [
    {
      "cell_type": "code",
      "source": [
        "import pandas as pd\n",
        "from sklearn.preprocessing import StandardScaler, MinMaxScaler\n",
        "from sklearn.preprocessing import OneHotEncoder\n",
        "from sklearn.preprocessing import LabelEncoder\n",
        "import numpy as np\n",
        "from sklearn.ensemble import IsolationForest\n",
        "import ppscore as pps\n",
        "df = pd.read_csv('/content/adult_with_headers.csv')\n",
        "print(df.info())"
      ],
      "metadata": {
        "colab": {
          "base_uri": "https://localhost:8080/"
        },
        "id": "6NkYZsqT3nKr",
        "outputId": "73bcc4a4-834c-44bd-b5f9-91a7d3f70f04"
      },
      "execution_count": 13,
      "outputs": [
        {
          "output_type": "stream",
          "name": "stdout",
          "text": [
            "<class 'pandas.core.frame.DataFrame'>\n",
            "RangeIndex: 32561 entries, 0 to 32560\n",
            "Data columns (total 15 columns):\n",
            " #   Column          Non-Null Count  Dtype \n",
            "---  ------          --------------  ----- \n",
            " 0   age             32561 non-null  int64 \n",
            " 1   workclass       32561 non-null  object\n",
            " 2   fnlwgt          32561 non-null  int64 \n",
            " 3   education       32561 non-null  object\n",
            " 4   education_num   32561 non-null  int64 \n",
            " 5   marital_status  32561 non-null  object\n",
            " 6   occupation      32561 non-null  object\n",
            " 7   relationship    32561 non-null  object\n",
            " 8   race            32561 non-null  object\n",
            " 9   sex             32561 non-null  object\n",
            " 10  capital_gain    32561 non-null  int64 \n",
            " 11  capital_loss    32561 non-null  int64 \n",
            " 12  hours_per_week  32561 non-null  int64 \n",
            " 13  native_country  32561 non-null  object\n",
            " 14  income          32561 non-null  object\n",
            "dtypes: int64(6), object(9)\n",
            "memory usage: 3.7+ MB\n",
            "None\n"
          ]
        }
      ]
    },
    {
      "cell_type": "code",
      "source": [
        "print(df.head())"
      ],
      "metadata": {
        "colab": {
          "base_uri": "https://localhost:8080/"
        },
        "id": "G6WOFyiY33YY",
        "outputId": "b79742f3-72c8-438f-f3cd-f7bd6fc89453"
      },
      "execution_count": 14,
      "outputs": [
        {
          "output_type": "stream",
          "name": "stdout",
          "text": [
            "   age          workclass  fnlwgt   education  education_num  \\\n",
            "0   39          State-gov   77516   Bachelors             13   \n",
            "1   50   Self-emp-not-inc   83311   Bachelors             13   \n",
            "2   38            Private  215646     HS-grad              9   \n",
            "3   53            Private  234721        11th              7   \n",
            "4   28            Private  338409   Bachelors             13   \n",
            "\n",
            "        marital_status          occupation    relationship    race      sex  \\\n",
            "0        Never-married        Adm-clerical   Not-in-family   White     Male   \n",
            "1   Married-civ-spouse     Exec-managerial         Husband   White     Male   \n",
            "2             Divorced   Handlers-cleaners   Not-in-family   White     Male   \n",
            "3   Married-civ-spouse   Handlers-cleaners         Husband   Black     Male   \n",
            "4   Married-civ-spouse      Prof-specialty            Wife   Black   Female   \n",
            "\n",
            "   capital_gain  capital_loss  hours_per_week  native_country  income  \n",
            "0          2174             0              40   United-States   <=50K  \n",
            "1             0             0              13   United-States   <=50K  \n",
            "2             0             0              40   United-States   <=50K  \n",
            "3             0             0              40   United-States   <=50K  \n",
            "4             0             0              40            Cuba   <=50K  \n"
          ]
        }
      ]
    },
    {
      "cell_type": "code",
      "source": [
        "print(df.describe())\n"
      ],
      "metadata": {
        "colab": {
          "base_uri": "https://localhost:8080/"
        },
        "id": "DvmeUbus362i",
        "outputId": "d2a890b9-89dd-48dd-d3d8-d66572df44e4"
      },
      "execution_count": 15,
      "outputs": [
        {
          "output_type": "stream",
          "name": "stdout",
          "text": [
            "                age        fnlwgt  education_num  capital_gain  capital_loss  \\\n",
            "count  32561.000000  3.256100e+04   32561.000000  32561.000000  32561.000000   \n",
            "mean      38.581647  1.897784e+05      10.080679   1077.648844     87.303830   \n",
            "std       13.640433  1.055500e+05       2.572720   7385.292085    402.960219   \n",
            "min       17.000000  1.228500e+04       1.000000      0.000000      0.000000   \n",
            "25%       28.000000  1.178270e+05       9.000000      0.000000      0.000000   \n",
            "50%       37.000000  1.783560e+05      10.000000      0.000000      0.000000   \n",
            "75%       48.000000  2.370510e+05      12.000000      0.000000      0.000000   \n",
            "max       90.000000  1.484705e+06      16.000000  99999.000000   4356.000000   \n",
            "\n",
            "       hours_per_week  \n",
            "count    32561.000000  \n",
            "mean        40.437456  \n",
            "std         12.347429  \n",
            "min          1.000000  \n",
            "25%         40.000000  \n",
            "50%         40.000000  \n",
            "75%         45.000000  \n",
            "max         99.000000  \n"
          ]
        }
      ]
    },
    {
      "cell_type": "code",
      "source": [
        "print(df.isnull().sum())\n"
      ],
      "metadata": {
        "colab": {
          "base_uri": "https://localhost:8080/"
        },
        "id": "q5_qrxDH37u8",
        "outputId": "6e754899-296d-4145-f770-685fef672975"
      },
      "execution_count": 16,
      "outputs": [
        {
          "output_type": "stream",
          "name": "stdout",
          "text": [
            "age               0\n",
            "workclass         0\n",
            "fnlwgt            0\n",
            "education         0\n",
            "education_num     0\n",
            "marital_status    0\n",
            "occupation        0\n",
            "relationship      0\n",
            "race              0\n",
            "sex               0\n",
            "capital_gain      0\n",
            "capital_loss      0\n",
            "hours_per_week    0\n",
            "native_country    0\n",
            "income            0\n",
            "dtype: int64\n"
          ]
        }
      ]
    },
    {
      "cell_type": "code",
      "source": [
        "num_features = df.select_dtypes(include=['int64', 'float64']).columns\n",
        "scaler = StandardScaler()\n",
        "df[num_features] = scaler.fit_transform(df[num_features])\n",
        "min_max_scaler = MinMaxScaler()\n",
        "df[num_features] = min_max_scaler.fit_transform(df[num_features])\n"
      ],
      "metadata": {
        "id": "Px0FyXy_39dB"
      },
      "execution_count": 17,
      "outputs": []
    },
    {
      "cell_type": "code",
      "source": [
        "cat_features = df.select_dtypes(include=['object']).columns\n",
        "for feature in cat_features:\n",
        "    if df[feature].nunique() < 5:\n",
        "        df = pd.get_dummies(df, columns=[feature], drop_first=True)\n"
      ],
      "metadata": {
        "id": "Q6ZEa3yh4Eli"
      },
      "execution_count": 18,
      "outputs": []
    },
    {
      "source": [
        "le = LabelEncoder()\n",
        "cat_features = df.select_dtypes(include=['object']).columns\n",
        "for feature in cat_features:\n",
        "    if df[feature].nunique() >= 5:\n",
        "        df[feature] = le.fit_transform(df[feature])"
      ],
      "cell_type": "code",
      "metadata": {
        "id": "T_L_TqVI4YB7"
      },
      "execution_count": 19,
      "outputs": []
    },
    {
      "cell_type": "code",
      "source": [
        "df['age_income_ratio'] = df['age'] / df['hours_per_week']\n"
      ],
      "metadata": {
        "id": "-q7Dk3Aw4Mdl"
      },
      "execution_count": 20,
      "outputs": []
    },
    {
      "source": [
        "import numpy as np\n",
        "\n",
        "df['education'] = df['education'].astype(str)\n",
        "\n",
        "df['education_level'] = df['education'].apply(lambda x: len(x.split()))\n",
        "\n",
        "df['log_hours_per_week'] = np.log1p(df['hours_per_week'])\n",
        "\n",
        "print(df.head())"
      ],
      "cell_type": "code",
      "metadata": {
        "colab": {
          "base_uri": "https://localhost:8080/"
        },
        "id": "BzgiEaTR5tiY",
        "outputId": "11b65e25-56ec-492b-dd30-13f8d450c68c"
      },
      "execution_count": 21,
      "outputs": [
        {
          "output_type": "stream",
          "name": "stdout",
          "text": [
            "        age  workclass    fnlwgt education  education_num  marital_status  \\\n",
            "0  0.301370          7  0.044302         9       0.800000               4   \n",
            "1  0.452055          6  0.048238         9       0.800000               2   \n",
            "2  0.287671          4  0.138113        11       0.533333               0   \n",
            "3  0.493151          4  0.151068         1       0.400000               2   \n",
            "4  0.150685          4  0.221488         9       0.800000               2   \n",
            "\n",
            "   occupation  relationship  race  capital_gain  capital_loss  hours_per_week  \\\n",
            "0           1             1     4       0.02174           0.0        0.397959   \n",
            "1           4             0     4       0.00000           0.0        0.122449   \n",
            "2           6             1     4       0.00000           0.0        0.397959   \n",
            "3           6             0     2       0.00000           0.0        0.397959   \n",
            "4          10             5     2       0.00000           0.0        0.397959   \n",
            "\n",
            "   native_country  sex_ Male  income_ >50K  age_income_ratio  education_level  \\\n",
            "0              39          1             0          0.757288                1   \n",
            "1              39          1             0          3.691781                1   \n",
            "2              39          1             0          0.722866                1   \n",
            "3              39          1             0          1.239199                1   \n",
            "4               5          0             0          0.378644                1   \n",
            "\n",
            "   log_hours_per_week  \n",
            "0            0.335013  \n",
            "1            0.115513  \n",
            "2            0.335013  \n",
            "3            0.335013  \n",
            "4            0.335013  \n"
          ]
        }
      ]
    },
    {
      "cell_type": "code",
      "source": [
        "import numpy as np\n",
        "df['log_hours_per_week'] = np.log1p(df['hours_per_week'])\n"
      ],
      "metadata": {
        "id": "iz9OLb2z5XOj"
      },
      "execution_count": 22,
      "outputs": []
    },
    {
      "source": [
        "import numpy as np\n",
        "from sklearn.ensemble import IsolationForest\n",
        "\n",
        "df['age_income_ratio'] = df.apply(lambda row: row['age'] / row['hours_per_week'] if row['hours_per_week'] != 0 else 0, axis=1)\n",
        "\n",
        "df['log_hours_per_week'] = np.log1p(df['hours_per_week'].apply(lambda x: max(x, 1)))\n",
        "iso_forest = IsolationForest(contamination=0.01)\n",
        "outliers = iso_forest.fit_predict(df.select_dtypes(include=['int64', 'float64']))\n",
        "df = df[outliers == 1]"
      ],
      "cell_type": "code",
      "metadata": {
        "id": "PfQBfR8x6FnV"
      },
      "execution_count": 23,
      "outputs": []
    },
    {
      "cell_type": "code",
      "source": [
        "pps_matrix = pps.matrix(df)\n",
        "print(pps_matrix)\n"
      ],
      "metadata": {
        "colab": {
          "base_uri": "https://localhost:8080/"
        },
        "id": "4FjqQLcn56Sz",
        "outputId": "fd4dbde9-40c8-4d13-86ed-12a06c6019f0"
      },
      "execution_count": 24,
      "outputs": [
        {
          "output_type": "stream",
          "name": "stdout",
          "text": [
            "                      x                   y   ppscore                case  \\\n",
            "0                   age                 age  1.000000      predict_itself   \n",
            "1                   age           workclass  0.000000          regression   \n",
            "2                   age              fnlwgt  0.000000          regression   \n",
            "3                   age           education  0.068677      classification   \n",
            "4                   age       education_num  0.000000          regression   \n",
            "..                  ...                 ...       ...                 ...   \n",
            "319  log_hours_per_week           sex_ Male  0.000000          regression   \n",
            "320  log_hours_per_week        income_ >50K  0.000000          regression   \n",
            "321  log_hours_per_week    age_income_ratio  0.000000          regression   \n",
            "322  log_hours_per_week     education_level  0.000000  target_is_constant   \n",
            "323  log_hours_per_week  log_hours_per_week  1.000000      predict_itself   \n",
            "\n",
            "     is_valid_score               metric  baseline_score  model_score  \\\n",
            "0              True                 None        0.000000     1.000000   \n",
            "1              True  mean absolute error        0.727400     0.854933   \n",
            "2              True  mean absolute error        0.052375     0.053560   \n",
            "3              True          weighted F1        0.195000     0.250285   \n",
            "4              True  mean absolute error        0.125533     0.127946   \n",
            "..              ...                  ...             ...          ...   \n",
            "319            True  mean absolute error        0.337000     0.447103   \n",
            "320            True  mean absolute error        0.239800     0.364754   \n",
            "321            True  mean absolute error        0.510789     0.546907   \n",
            "322            True                 None        1.000000     1.000000   \n",
            "323            True                 None        0.000000     1.000000   \n",
            "\n",
            "                        model  \n",
            "0                        None  \n",
            "1     DecisionTreeRegressor()  \n",
            "2     DecisionTreeRegressor()  \n",
            "3    DecisionTreeClassifier()  \n",
            "4     DecisionTreeRegressor()  \n",
            "..                        ...  \n",
            "319   DecisionTreeRegressor()  \n",
            "320   DecisionTreeRegressor()  \n",
            "321   DecisionTreeRegressor()  \n",
            "322                      None  \n",
            "323                      None  \n",
            "\n",
            "[324 rows x 9 columns]\n"
          ]
        }
      ]
    },
    {
      "cell_type": "code",
      "source": [],
      "metadata": {
        "id": "6vXLb0656JOY"
      },
      "execution_count": 24,
      "outputs": []
    }
  ]
}