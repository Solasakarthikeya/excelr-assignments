{
  "nbformat": 4,
  "nbformat_minor": 0,
  "metadata": {
    "colab": {
      "provenance": []
    },
    "kernelspec": {
      "name": "python3",
      "display_name": "Python 3"
    },
    "language_info": {
      "name": "python"
    }
  },
  "cells": [
    {
      "cell_type": "code",
      "source": [
        "def is_prime(num):\n",
        "\n",
        "    if num <= 1:\n",
        "        return False\n",
        "    if num == 2:\n",
        "        return True\n",
        "    if num % 2 == 0:\n",
        "        return False\n",
        "\n",
        "    sqrt_num = int(num**0.5) + 1\n",
        "    for i in range(3, sqrt_num, 2):\n",
        "        if num % i == 0:\n",
        "            return False\n",
        "    return True\n",
        "print(is_prime(11))\n",
        "print(is_prime(15))"
      ],
      "metadata": {
        "id": "Y-YVHzsJV5L2",
        "colab": {
          "base_uri": "https://localhost:8080/"
        },
        "outputId": "9b88b9eb-0ef9-4997-89ef-1a9a0aa2282a"
      },
      "execution_count": 3,
      "outputs": [
        {
          "output_type": "stream",
          "name": "stdout",
          "text": [
            "True\n",
            "False\n"
          ]
        }
      ]
    },
    {
      "cell_type": "code",
      "source": [
        "import random\n",
        "\n",
        "def random_product():\n",
        "\n",
        "    num1 = random.randint(1, 10)\n",
        "    num2 = random.randint(1, 10)\n",
        "    product = num1 * num2\n",
        "\n",
        "    user_input = int(input(f\"What is the product of {num1} and {num2}? \"))\n",
        "\n",
        "    if user_input == product:\n",
        "        print(\"Correct!\")\n",
        "    else:\n",
        "        print(f\"Wrong! The correct answer is {product}\")\n",
        "random_product()"
      ],
      "metadata": {
        "id": "NyLhEZVNV5w7",
        "colab": {
          "base_uri": "https://localhost:8080/"
        },
        "outputId": "2a147621-2277-49fe-f870-411fb559f1d5"
      },
      "execution_count": 7,
      "outputs": [
        {
          "output_type": "stream",
          "name": "stdout",
          "text": [
            "What is the product of 3 and 5? 15\n",
            "Correct!\n"
          ]
        }
      ]
    },
    {
      "cell_type": "code",
      "source": [
        "def squares_of_numbers():\n",
        "    for num in range(100, 201):\n",
        "        if num % 2 == 0:\n",
        "            print(f\"Square of {num} is {num*num}\")\n",
        "squares_of_numbers()"
      ],
      "metadata": {
        "colab": {
          "base_uri": "https://localhost:8080/"
        },
        "id": "LvRNKphuWELu",
        "outputId": "7d7de333-a3be-47bc-f626-e6daa0b2a16a"
      },
      "execution_count": null,
      "outputs": [
        {
          "output_type": "stream",
          "name": "stdout",
          "text": [
            "Square of 100 is 10000\n",
            "Square of 102 is 10404\n",
            "Square of 104 is 10816\n",
            "Square of 106 is 11236\n",
            "Square of 108 is 11664\n",
            "Square of 110 is 12100\n",
            "Square of 112 is 12544\n",
            "Square of 114 is 12996\n",
            "Square of 116 is 13456\n",
            "Square of 118 is 13924\n",
            "Square of 120 is 14400\n",
            "Square of 122 is 14884\n",
            "Square of 124 is 15376\n",
            "Square of 126 is 15876\n",
            "Square of 128 is 16384\n",
            "Square of 130 is 16900\n",
            "Square of 132 is 17424\n",
            "Square of 134 is 17956\n",
            "Square of 136 is 18496\n",
            "Square of 138 is 19044\n",
            "Square of 140 is 19600\n",
            "Square of 142 is 20164\n",
            "Square of 144 is 20736\n",
            "Square of 146 is 21316\n",
            "Square of 148 is 21904\n",
            "Square of 150 is 22500\n",
            "Square of 152 is 23104\n",
            "Square of 154 is 23716\n",
            "Square of 156 is 24336\n",
            "Square of 158 is 24964\n",
            "Square of 160 is 25600\n",
            "Square of 162 is 26244\n",
            "Square of 164 is 26896\n",
            "Square of 166 is 27556\n",
            "Square of 168 is 28224\n",
            "Square of 170 is 28900\n",
            "Square of 172 is 29584\n",
            "Square of 174 is 30276\n",
            "Square of 176 is 30976\n",
            "Square of 178 is 31684\n",
            "Square of 180 is 32400\n",
            "Square of 182 is 33124\n",
            "Square of 184 is 33856\n",
            "Square of 186 is 34596\n",
            "Square of 188 is 35344\n",
            "Square of 190 is 36100\n",
            "Square of 192 is 36864\n",
            "Square of 194 is 37636\n",
            "Square of 196 is 38416\n",
            "Square of 198 is 39204\n",
            "Square of 200 is 40000\n"
          ]
        }
      ]
    },
    {
      "cell_type": "code",
      "source": [
        "def count_words(text):\n",
        "    words = text.split()\n",
        "    word_count = {}\n",
        "\n",
        "    for word in words:\n",
        "        word = word.strip('.,!?\"\\'').lower()\n",
        "        if word:\n",
        "            if word in word_count:\n",
        "                word_count[word] += 1\n",
        "            else:\n",
        "                word_count[word] = 1\n",
        "\n",
        "    return word_count\n",
        "input_text = \"This is a sample text.\"\n",
        "result = count_words(input_text)\n",
        "for word, count in result.items():\n",
        "    print(f\"'{word}': {count}\")"
      ],
      "metadata": {
        "id": "qtPAM-emWN3d",
        "colab": {
          "base_uri": "https://localhost:8080/"
        },
        "outputId": "9086924d-393d-41a1-b939-5b548ba1b253"
      },
      "execution_count": 8,
      "outputs": [
        {
          "output_type": "stream",
          "name": "stdout",
          "text": [
            "'this': 1\n",
            "'is': 1\n",
            "'a': 1\n",
            "'sample': 1\n",
            "'text': 1\n"
          ]
        }
      ]
    },
    {
      "cell_type": "code",
      "source": [
        "def is_palindrome(s):\n",
        "    \"\"\"Check if a string is a palindrome.\"\"\"\n",
        "    s = s.lower().replace(\" \", \"\")\n",
        "    return s == s[::-1]\n",
        "print(is_palindrome(\"racecar\"))\n",
        "print(is_palindrome(\"hello\"))"
      ],
      "metadata": {
        "id": "Ph_ZZlk_WXlz",
        "colab": {
          "base_uri": "https://localhost:8080/"
        },
        "outputId": "311aee4f-f02b-49aa-82db-0402073a0aba"
      },
      "execution_count": 9,
      "outputs": [
        {
          "output_type": "stream",
          "name": "stdout",
          "text": [
            "True\n",
            "False\n"
          ]
        }
      ]
    },
    {
      "cell_type": "code",
      "source": [],
      "metadata": {
        "id": "x_DyNRKUWgm5"
      },
      "execution_count": null,
      "outputs": []
    }
  ]
}